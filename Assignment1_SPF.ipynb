{
 "cells": [
  {
   "cell_type": "markdown",
   "id": "decent-pizza",
   "metadata": {},
   "source": [
    "Group 06: Alexander Robert Algmin Venegas (2871245) and Andreu Boix Torres (2868333) \n",
    "SPF: Assignment 1"
   ]
  },
  {
   "cell_type": "markdown",
   "id": "affecting-founder",
   "metadata": {},
   "source": [
    "# Checklist:\n",
    "- Prepare your submission using this template;\n",
    "- The content of the cells that you see below are just an example of the format that you should follow;\n",
    "- Fill out the group number, member names and student IDs above;\n",
    "- Adjust assignement number above;\n",
    "- Type up your answers below using Latex and/or Python as exemplified;\n",
    "- Don't add the text of the question below, only your answers;\n",
    "- To create a PDF of your submission use the export feature;\n",
    "- *Delete this cell before creating the PDF*."
   ]
  },
  {
   "cell_type": "markdown",
   "id": "28bd1d4b",
   "metadata": {},
   "source": [
    "# Exercise 1"
   ]
  },
  {
   "cell_type": "markdown",
   "id": "8ca6ebf7",
   "metadata": {},
   "source": [
    "Consider the $N$-period binomial model with $r = log(2/3)$, $S_0=6$, $u=5/6$, $d=1/6$, and a forward whose pay-off is $C(S_0, \\dots, S_N) = S_{N} - 2$. Say, $p=0.4$. Using the tools from Chapter 2 of the lecture notes, do the following:\n",
    "\n",
    "- Check if the model is arbitrage free;\n",
    "- For maturity $N=2$, compute the corresponding replicating portfolio for the contract described above;\n",
    "- Determine the contract price $V_0$, and also $V_1$;\n",
    "- The replicating portfolio has a very distinctive characteristic; what is it? make a connection to how we priced a forward in the first chapter;\n",
    "- Suppose someone is willing to buy the contract with maturity $2$ for a price $P > V_0$. Construct an explicit arbitrage strategy.\n",
    "\n",
    "<em>Note: justify your answers by showing all intermediate computations in your solutions, otherwise you won't get any points for this exercise.<em>"
   ]
  },
  {
   "cell_type": "markdown",
   "id": "531c95a8",
   "metadata": {},
   "source": [
    "- Check if the model is arbitrage free;"
   ]
  },
  {
   "cell_type": "markdown",
   "id": "23be4d95",
   "metadata": {},
   "source": [
    "Let us first suppose that the model is not free of arbitrage. Then, we could construct an arbitrage strategy.\n",
    "\n",
    "At first, we start with no money: $0 = V_0 = \\phi_1 S_0 + \\psi_1$. Then, $\\phi_1 S_0 = -\\psi_1$.\n",
    "\n",
    "As the portfolio in the $N$-period binomial model is self-financing, we have that $V_0 = \\phi_1 S_0 + \\psi_1 = \\phi_2 S_0 + \\psi_2$. For that reason, it is also true that $\\phi_2 S_0 = -\\psi_2$.\n",
    "\n",
    "\n",
    "Hence, $V_1 = \\phi_2 S_1 + \\psi_2 e^r$ and, substituting for $\\phi_2 S_0 = -\\psi_2$"
   ]
  },
  {
   "cell_type": "markdown",
   "id": "02f96867",
   "metadata": {},
   "source": [
    "... TO DO"
   ]
  },
  {
   "cell_type": "markdown",
   "id": "94b3ee01",
   "metadata": {},
   "source": [
    "- For maturity $N=2$, compute the corresponding replicating portfolio for the contract described above;"
   ]
  },
  {
   "cell_type": "markdown",
   "id": "f11295bb",
   "metadata": {},
   "source": [
    "We know that the contract consists in $r = log(2/3)$, $S_0=6$, $u=5/6$, $d=1/6$, and a forward whose pay-off is $C(S_0, \\dots, S_N) = S_{N} - 2$. Say, $p=0.4$.\n",
    "..."
   ]
  },
  {
   "cell_type": "markdown",
   "id": "71ec716d",
   "metadata": {},
   "source": [
    " - Determine the contract price $V_0$, and also $V_1$;"
   ]
  },
  {
   "cell_type": "markdown",
   "id": "5d3953ba",
   "metadata": {},
   "source": [
    "..."
   ]
  },
  {
   "cell_type": "markdown",
   "id": "b5c12e29",
   "metadata": {},
   "source": [
    "- The replicating portfolio has a very distinctive characteristic; what is it? make a connection to how we priced a forward in the first chapter;\n"
   ]
  },
  {
   "cell_type": "markdown",
   "id": "f9c9ebc5",
   "metadata": {},
   "source": [
    "The distinctive characteristic is that, for $n = 1,2$, it happens that $\\psi_n e^{r(n-1)} = -3$ and $\\phi_n = 1$. That means that, at time $0$, we borrowed $3$ units of currency at the bank and we buy one unit of stock. $psi_0, \\phi_0$ "
   ]
  },
  {
   "cell_type": "markdown",
   "id": "bd17d1cc",
   "metadata": {},
   "source": [
    "# Exercise 2"
   ]
  },
  {
   "cell_type": "markdown",
   "id": "9a8c6972",
   "metadata": {},
   "source": []
  },
  {
   "cell_type": "markdown",
   "id": "northern-gallery",
   "metadata": {},
   "source": [
    "# Exercise 4"
   ]
  },
  {
   "cell_type": "markdown",
   "id": "4fdcd248",
   "metadata": {},
   "source": [
    "Let us first show a small code that prices stocks according to the T-Binomial Model"
   ]
  },
  {
   "cell_type": "code",
   "execution_count": 44,
   "id": "norwegian-quarterly",
   "metadata": {},
   "outputs": [
    {
     "name": "stdout",
     "output_type": "stream",
     "text": [
      "Stock prices:\n",
      "[[15.   15.75 16.54 17.36 18.23 19.14 20.1  21.11 22.16 23.27 24.43]\n",
      " [  nan 11.85 12.44 13.06 13.72 14.4  15.12 15.88 16.67 17.51 18.38]\n",
      " [  nan   nan  9.36  9.83 10.32 10.84 11.38 11.95 12.55 13.17 13.83]\n",
      " [  nan   nan   nan  7.4   7.77  8.15  8.56  8.99  9.44  9.91 10.41]\n",
      " [  nan   nan   nan   nan  5.84  6.13  6.44  6.76  7.1   7.46  7.83]\n",
      " [  nan   nan   nan   nan   nan  4.62  4.85  5.09  5.34  5.61  5.89]\n",
      " [  nan   nan   nan   nan   nan   nan  3.65  3.83  4.02  4.22  4.43]\n",
      " [  nan   nan   nan   nan   nan   nan   nan  2.88  3.02  3.18  3.33]\n",
      " [  nan   nan   nan   nan   nan   nan   nan   nan  2.28  2.39  2.51]\n",
      " [  nan   nan   nan   nan   nan   nan   nan   nan   nan  1.8   1.89]\n",
      " [  nan   nan   nan   nan   nan   nan   nan   nan   nan   nan  1.42]]\n",
      "Call option prices:\n",
      "[[ 7.0899  7.8073  8.572   9.3841 10.2436 11.1506 12.1056 13.1095 14.1638\n",
      "  15.2709 16.4334]\n",
      " [    nan  4.0723  4.5908  5.1563  5.7692  6.429   7.1346  7.8843  8.6761\n",
      "   9.5088 10.3832]\n",
      " [    nan     nan  1.8908  2.2114  2.5776  2.993   3.4604  3.981   4.5535\n",
      "   5.1736  5.8312]\n",
      " [    nan     nan     nan  0.5414  0.6699  0.8291  1.026   1.2697  1.5713\n",
      "   1.9445  2.4063]\n",
      " [    nan     nan     nan     nan  0.      0.      0.      0.      0.\n",
      "   0.      0.    ]\n",
      " [    nan     nan     nan     nan     nan  0.      0.      0.      0.\n",
      "   0.      0.    ]\n",
      " [    nan     nan     nan     nan     nan     nan  0.      0.      0.\n",
      "   0.      0.    ]\n",
      " [    nan     nan     nan     nan     nan     nan     nan  0.      0.\n",
      "   0.      0.    ]\n",
      " [    nan     nan     nan     nan     nan     nan     nan     nan  0.\n",
      "   0.      0.    ]\n",
      " [    nan     nan     nan     nan     nan     nan     nan     nan     nan\n",
      "   0.      0.    ]\n",
      " [    nan     nan     nan     nan     nan     nan     nan     nan     nan\n",
      "      nan  0.    ]]\n"
     ]
    }
   ],
   "source": [
    "import numpy as np\n",
    "\n",
    "s = 15 # stock price at time 0 in euro\n",
    "u = 1.05 # up multiplier\n",
    "d = 0.79 # down multiplier\n",
    "T = 10 # maturity time\n",
    "K = 8 # strike price\n",
    "r1 = 0.045/365 # daily interest rate; 1+r1 multiplier, not exp(r1)\n",
    "q = (1+r1-d)/(u-d) # risk neutral probability for up\n",
    "\n",
    "# Determine possible stock prices up to maturity\n",
    "stockprice = np.full((T+1,T+1),np.nan)\n",
    "stockprice[0,0] = s\n",
    "\n",
    "for j in range(1,T+1):\n",
    "    for i in range(0,j):\n",
    "        stockprice[i,j] = stockprice[i,j-1]*u\n",
    "        stockprice[i+1,j] = stockprice[i,j-1]*d\n",
    "print(\"Stock prices:\")\n",
    "print(np.around(stockprice, 2)) #just for visualisation\n",
    "\n",
    "# Determine European call option prices and conditional values\n",
    "calloption = np.full((T+1,T+1),np.nan)\n",
    "calloption[:,-1] = np.where(stockprice[:,-1]-K<0,0,stockprice[:,-1]-K)\n",
    "for j in range(T-1,-1,-1):\n",
    "    for i in range(0,j+1):\n",
    "        calloption[i,j] = (q*calloption[i,j+1]+(1-q)*calloption[i+1,j+1])/(1+r1)\n",
    "print(\"Call option prices:\")\n",
    "print(np.around(calloption, 4)) #just for visualisation"
   ]
  },
  {
   "cell_type": "markdown",
   "id": "laughing-inquiry",
   "metadata": {},
   "source": [
    "##### (a) Write a function that determines the value of a European call option for a user specified combination of d and u. Fix d = 0.90 and determine the price of the call option for various values of u, for instance, u = 1.02, 1.03, 1.05, 1.11. Plot these values in a graph. Repeat this for d = 0.795."
   ]
  },
  {
   "cell_type": "code",
   "execution_count": 45,
   "id": "8337ce77",
   "metadata": {},
   "outputs": [],
   "source": [
    "def value_european_call(d,u):\n",
    "    s = 15 # stock price at time 0 in euro\n",
    "    T = 10 # maturity time\n",
    "    K = 8 # strike price\n",
    "    r1 = 0.045/365 # daily interest rate; 1+r1 multiplier, not exp(r1)\n",
    "    q = (1+r1-d)/(u-d) # risk neutral probability for up\n",
    "\n",
    "    # Determine possible stock prices up to maturity\n",
    "    stockprice = np.full((T+1,T+1),np.nan)\n",
    "    stockprice[0,0] = s\n",
    "\n",
    "    for j in range(1,T+1):\n",
    "        for i in range(0,j):\n",
    "            stockprice[i,j] = stockprice[i,j-1]*u\n",
    "            stockprice[i+1,j] = stockprice[i,j-1]*d\n",
    "    \n",
    "    calloption = np.full((T+1,T+1),np.nan)\n",
    "    calloption[:,-1] = np.where(stockprice[:,-1]-K<0,0,stockprice[:,-1]-K)\n",
    "    for j in range(T-1,-1,-1):\n",
    "        for i in range(0,j+1):\n",
    "            calloption[i,j] = (q*calloption[i,j+1]+(1-q)*calloption[i+1,j+1])/(1+r1)\n",
    "    return np.round(calloption[0,0],2) # Value of the option contract at time 0"
   ]
  },
  {
   "cell_type": "code",
   "execution_count": 46,
   "id": "811228d9",
   "metadata": {},
   "outputs": [
    {
     "data": {
      "image/png": "[encoded data removed]",
      "text/plain": [
       "<Figure size 640x480 with 1 Axes>"
      ]
     },
     "metadata": {},
     "output_type": "display_data"
    },
    {
     "data": {
      "image/png": "[encoded data removed]",
      "text/plain": [
       "<Figure size 640x480 with 1 Axes>"
      ]
     },
     "metadata": {},
     "output_type": "display_data"
    }
   ],
   "source": [
    "import matplotlib.pyplot as plt\n",
    "\n",
    "def plot_in_function_of_u(d):\n",
    "    X = np.array([1.02, 1.03, 1.05, 1.11])\n",
    "    Y = np.array([])\n",
    "    for x in X:\n",
    "        Y = np.append(Y, value_european_call(d,x))\n",
    "\n",
    "    plt.plot(X,Y)\n",
    "    plt.show()\n",
    "    return X,Y\n",
    "\n",
    "X_90, Y_90 = plot_in_function_of_u(d=0.90)\n",
    "X_795, Y_795 = plot_in_function_of_u(d=0.795)"
   ]
  },
  {
   "cell_type": "markdown",
   "id": "happy-pierce",
   "metadata": {},
   "source": [
    "##### (b) What is the observed relation between the values of u (and d) and the call option price? Is there an intuitive explanation for these relations?\n"
   ]
  },
  {
   "cell_type": "markdown",
   "id": "8c87d262",
   "metadata": {},
   "source": [
    "Intuitively, for V_0 = q(u)e^{-r}C(S0, ..., S9,S9u) + (1-q(u))e^{-r}C(S0, ..., S9,S9d) (definir en función de u y explicar intuitivamente)\n"
   ]
  },
  {
   "cell_type": "code",
   "execution_count": 47,
   "id": "b0521f58",
   "metadata": {},
   "outputs": [
    {
     "name": "stdout",
     "output_type": "stream",
     "text": [
      "[6.88235294 6.83495146 6.74285714 6.54954955]\n",
      "[6.87254902 6.80582524 6.67619048 6.34234234]\n"
     ]
    }
   ],
   "source": [
    "print(Y_795/X_795)\n",
    "print(Y_90/X_90)"
   ]
  },
  {
   "cell_type": "markdown",
   "id": "81439637",
   "metadata": {},
   "source": [
    "##### (c) Write a function that determines the value of a put option with the same strike price K as the call option from before for a user-specified combination of d and u. Investigate how the parameters u and d influence the price of the put option.\n"
   ]
  },
  {
   "cell_type": "markdown",
   "id": "194bca99",
   "metadata": {},
   "source": [
    "C_0 - S0 + Ke^{-rT} = P_0"
   ]
  },
  {
   "cell_type": "code",
   "execution_count": 50,
   "id": "890c9030",
   "metadata": {},
   "outputs": [],
   "source": [
    "def value_european_put(d,u):\n",
    "    C0 = value_european_call(d,u)\n",
    "    return np.round(C0 - s + K*np.exp(-r1*T),4)"
   ]
  },
  {
   "cell_type": "code",
   "execution_count": 54,
   "id": "95e2484d",
   "metadata": {},
   "outputs": [
    {
     "name": "stdout",
     "output_type": "stream",
     "text": [
      "7.09\n",
      "0.0801\n",
      "7.0099\n",
      "7.009856936256514\n"
     ]
    }
   ],
   "source": [
    "P0 = value_european_put(d = 0.79, u = 1.05)\n",
    "print(P0)\n",
    "\n",
    "\n",
    "# Put-Call Parity Check\n",
    "print(value_european_call(d = 0.79, u = 1.05) - P0)\n",
    "print(s - K*np.exp(-r1*T))"
   ]
  },
  {
   "cell_type": "markdown",
   "id": "527f465b",
   "metadata": {},
   "source": [
    "##### (d) Using the fact that the discounted stock prices form a martingale (w.r.t. the natural filtration) under the risk neutral measure, use your code illustrate the so called put-call parity as defined in exercise 3 of this assignment."
   ]
  },
  {
   "cell_type": "code",
   "execution_count": 57,
   "id": "51d9a72f",
   "metadata": {},
   "outputs": [
    {
     "name": "stdout",
     "output_type": "stream",
     "text": [
      "Put-Call Parity Check:\n",
      "[[ 1.  1.  1.  1.  1.  1.  1.  1.  1.  1.  1.]\n",
      " [nan  1.  1.  1.  1.  1.  1.  1.  1.  1.  1.]\n",
      " [nan nan  1.  1.  1.  1.  1.  1.  1.  1.  1.]\n",
      " [nan nan nan  1.  1.  1.  1.  1.  1.  1.  1.]\n",
      " [nan nan nan nan  1.  1.  1.  1.  1.  1.  1.]\n",
      " [nan nan nan nan nan  1.  1.  1.  1.  1.  1.]\n",
      " [nan nan nan nan nan nan  1.  1.  1.  1.  1.]\n",
      " [nan nan nan nan nan nan nan  1.  1.  1.  1.]\n",
      " [nan nan nan nan nan nan nan nan  1.  1.  1.]\n",
      " [nan nan nan nan nan nan nan nan nan  1.  1.]\n",
      " [nan nan nan nan nan nan nan nan nan nan  1.]]\n"
     ]
    }
   ],
   "source": [
    "q = (1+r1-d)/(u-d) # risk neutral probability for up\n",
    "\n",
    "putcallparitycheck = np.full((T+1,T+1),np.nan)\n",
    "calloption = np.full((T+1,T+1),np.nan)\n",
    "putoption = np.full((T+1,T+1),np.nan)\n",
    "calloption[:,-1] = np.where(stockprice[:,-1]-K<0,0,stockprice[:,-1]-K)\n",
    "putoption[:,-1] = np.where(K - stockprice[:,-1]<0,0,K - stockprice[:,-1])\n",
    "tol = 1e-6\n",
    "for j in range(T-1,-1,-1):\n",
    "    for i in range(0,j+1):\n",
    "        calloption[i,j] = (q*calloption[i,j+1]+(1-q)*calloption[i+1,j+1])/(1+r1)\n",
    "        putoption[i,j] = (q*putoption[i,j+1]+(1-q)*putoption[i+1,j+1])/(1+r1)\n",
    "        putcallparitycheck[i,j] = (calloption[i,j] - putoption[i,j] - stockprice[i,j] + K*np.exp(-r1*(T-j))) < tol\n",
    "\n",
    "for i in range(0,T+1):\n",
    "    putcallparitycheck[i,T] = (calloption[i,T] - putoption[i,T] - stockprice[i,T] + K) < tol\n",
    "\n",
    "print(\"Put-Call Parity Check:\")\n",
    "print(putcallparitycheck)\n"
   ]
  }
 ],
 "metadata": {
  "kernelspec": {
   "display_name": "Python 3",
   "language": "python",
   "name": "python3"
  },
  "language_info": {
   "codemirror_mode": {
    "name": "ipython",
    "version": 3
   },
   "file_extension": ".py",
   "mimetype": "text/x-python",
   "name": "python",
   "nbconvert_exporter": "python",
   "pygments_lexer": "ipython3",
   "version": "3.12.3"
  }
 },
 "nbformat": 4,
 "nbformat_minor": 5
}
