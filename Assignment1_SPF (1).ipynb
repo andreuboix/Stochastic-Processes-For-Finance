{
 "cells": [
  {
   "cell_type": "markdown",
   "id": "decent-pizza",
   "metadata": {},
   "source": [
    "Group 06: Alexander Robert Algmin Venegas (2871245) and Andreu Boix Torres (2868333) \n",
    "SPF: Assignment 1"
   ]
  },
  {
   "cell_type": "markdown",
   "id": "affecting-founder",
   "metadata": {},
   "source": [
    "# Checklist:\n",
    "- Prepare your submission using this template;\n",
    "- The content of the cells that you see below are just an example of the format that you should follow;\n",
    "- Fill out the group number, member names and student IDs above;\n",
    "- Adjust assignement number above;\n",
    "- Type up your answers below using Latex and/or Python as exemplified;\n",
    "- Don't add the text of the question below, only your answers;\n",
    "- To create a PDF of your submission use the export feature;\n",
    "- *Delete this cell before creating the PDF*."
   ]
  },
  {
   "cell_type": "markdown",
   "id": "28bd1d4b",
   "metadata": {},
   "source": [
    "# Exercise 1"
   ]
  },
  {
   "cell_type": "markdown",
   "id": "8ca6ebf7",
   "metadata": {},
   "source": [
    "Consider the $N$-period binomial model with $r = log(2/3)$, $S_0=6$, $u=5/6$, $d=1/6$, and a forward whose pay-off is $C(S_0, \\dots, S_N) = S_{N} - 2$. Say, $p=0.4$. Using the tools from Chapter 2 of the lecture notes, do the following:\n",
    "\n",
    "- Check if the model is arbitrage free;\n",
    "- For maturity $N=2$, compute the corresponding replicating portfolio for the contract described above;\n",
    "- Determine the contract price $V_0$, and also $V_1$;\n",
    "- The replicating portfolio has a very distinctive characteristic; what is it? make a connection to how we priced a forward in the first chapter;\n",
    "- Suppose someone is willing to buy the contract with maturity $2$ for a price $P > V_0$. Construct an explicit arbitrage strategy.\n",
    "\n",
    "<em>Note: justify your answers by showing all intermediate computations in your solutions, otherwise you won't get any points for this exercise.<em>"
   ]
  },
  {
   "cell_type": "markdown",
   "id": "531c95a8",
   "metadata": {},
   "source": [
    "- Check if the model is arbitrage free;"
   ]
  },
  {
   "cell_type": "markdown",
   "id": "23be4d95",
   "metadata": {},
   "source": [
    "Let us first suppose that the model is free of arbitrage. Then, we could construct an arbitrage strategy.\n",
    "\n",
    "At first, we start with no money: $0 = V_0 = \\phi_1 S_0 + \\psi_1$. Then, $\\phi_1 S_0 = -\\psi_1$.\n",
    "\n",
    "As the portfolio in the $N$-period binomial model is self-financing, we have that $V_0 = \\phi_1 S_0 + \\psi_1 = \\phi_2 S_0 + \\psi_2$. For that reason, it is also true that $\\phi_2 S_0 = -\\psi_2$.\n",
    "\n",
    "\n",
    "Hence, $V_1 = \\phi_2 S_1 + \\psi_2 e^r$ and, substituting for $\\phi_2 S_0 = -\\psi_2$ we get \n",
    "$V_1=\\begin{cases}\n",
    "\\psi_2(e^{r}-u) & wp & p\\\\\n",
    "\\psi_2(e^{r}-d) & wp & 1-p\n",
    "\\end{cases}$  \n",
    "There is always a non-negative probability of losing money if $e^r \\leq d$ or $e^r \\geq u$.\n",
    "\n",
    "__Arbitrage strategy:__\n",
    "\n",
    "Note that if $e^r \\geq u (<d)$ then (without any money) we can borrow an asset and sell it for $S_0$, then invest the money. At $t=1$ we have to pay back the asset, so at least we would get $S_0 e^{r} - S_0 u \\geq 0$.  \n",
    "\n",
    "If $e^r \\leq d (<u)$ then (without any money) we can borrow $S_0$ and buy an asset. At $t=1$ we have to pay back the money, so at least we would get $S_0 d - S_0 e^{r} \\geq 0$.\n",
    "\n",
    "As we have just seen, there is arbitrage if an only if $e^r \\geq u$ or $ e^r \\leq d$. In this case, we get that $e^r = \\frac{2}{3} \\in (d,u)=(\\frac{1}{6}, \\frac{5}{6})$"
   ]
  },
  {
   "cell_type": "markdown",
   "id": "94b3ee01",
   "metadata": {},
   "source": [
    "- For maturity $N=2$, compute the corresponding replicating portfolio for the contract described above;"
   ]
  },
  {
   "cell_type": "markdown",
   "id": "f11295bb",
   "metadata": {},
   "source": [
    "Before calculating the replicating portfolio (this is, the number of assets $\\phi$ and the amount of money $\\psi$) we have to calculate the value of the portfolio at time $t=1$, $V_1$ and at time $t=2$, $V_2$. \n",
    "At $t=1$, we have that:  \n",
    "$\\begin{cases}\n",
    "\\ \\phi u s_0 + \\psi e^r & = V_1(s_0,s_0 u)\\\\\n",
    "\\ \\phi d s_0 + \\psi e^r & = V_1(s_0,s_0 d)\n",
    "\\end{cases}$  \n",
    "Then,  $\\phi = \\frac{V_1(s_0,s_0 u)-V_1(s_0,s_0 d)}{s_0(u-d)}$ and $\\psi=\\frac{uC(s_0 d)-dv_1(s_0,s_0 u)}{e^r (u-d)}$.  \n",
    "We get to: $V_0 = e^{-r}(qV_1(s_0,s_0 u)+(1-q)V_1(s_0, s_0 d))$ where $q=\\frac{e^r-d}{u-d}$\n",
    "\n",
    "At time $t=2$, $S_2$ can be either $s_1 u$ or $s_1 d$. This leads to two possible payoffs: $C(s_1 u)$ or $C(s_1 d)$. We are back at the one-period binomial model, then:  \n",
    "$V_1=V_1(S_1)= \\begin{cases}\n",
    "\\ e^{-r}(qC(s_o u^2)-(1-q)V_2(s_0,s_1,s_0 d u)), & if & S_1=s_0 u, \\\\\n",
    "\\ e^{-r}(qC(s_0 u d)+(1-q)V_2(s_0,s_1,s_0 d^2)), & if & S_1=s_0 d\n",
    "\\end{cases}$\n",
    "\n",
    "We get that  \n",
    "$V_1(S_1) = \\begin{cases}\n",
    "\\ 2 & if & S_1=s_0 u, \\\\\n",
    "\\ -2 & if & S_1=s_0 d\n",
    "\\end{cases}$  \n",
    "\n",
    "From $V_1=\\phi_1 S_1 + \\psi_1 e^r$ and proceeding as before, we finally get:\n",
    "$\\phi_1=\\frac{V_1(s_0,s_0 u)-V_1(s_0,s_0 d)}{s_0(u-d)}=\\frac{2-(-2)}{6 (\\frac{2}{3})} = 1$  \n",
    "and $\\psi_1=\\frac{u V_1(s_0, s_0 d)-d V_1(s_0, s_0 u)}{e^r (u-d)} = \\frac{-2 \\frac{5}{6} - 2 \\frac{1}{6}}{e^{log(2/3)} \\frac{2}{3}} = \\frac{-9}{2}$\n",
    "\n",
    "For $(\\phi_2,\\psi_2)$ we proceed with (almost) the same calculations but in 2 different cases:  \n",
    "__Case 1 ($S_2=uS_1$):__  \n",
    "$\\begin{cases}\n",
    "\\ \\phi_2 u^2 s_0 + \\psi_2 e^{2r} = & C(s_0,s_0 u, s_0 u^2) = & u^2 s_0 -2, \\\\\n",
    "\\ \\phi_2 u d s_0 + \\psi_2 e^{2r} = & C(s_0,s_0 u, s_0 u d) = & u d s_0 -2\n",
    "\\end{cases}$  \n",
    "\n",
    "Hence,  \n",
    "$\\phi_2 = \\frac{(u^2 s_0 - 2)-(u d s_0 -2)}{s_0 (u^2-d u)} = 1$  \n",
    "$\\psi_2 = \\frac{u(u d s_0 -2)-d(u^2 s_0 -2)}{e^{2r}(u^2- d u)}$\n",
    "\n",
    "__Case 2 ($S_2=dS_1$):__  \n",
    "$\\begin{cases}\n",
    "\\ \\phi_2 u d s_0 + \\psi_2 e^{2r} = & C(s_0,s_0 u, s_0 u d) = & u d s_0 -2 \\\\\n",
    "\\ \\phi_2 d^2 s_0 + \\psi_2 e^{2r} = & C(s_0,s_0 u, s_0 u^2) = & d^2 s_0 -2\n",
    "\\end{cases}$  \n",
    "\n",
    "Hence,  \n",
    "$\\phi_2 = \\frac{(u d s_0 - 2)-(d^2 s_0 -2)}{s_0 (d u - d^2)} = 1$  \n",
    "$\\psi_2 = \\frac{u(d^2 s_0 -2)-d(u d s_0 -2)}{e^{2r}(d u - d^2)}$"
   ]
  },
  {
   "cell_type": "markdown",
   "id": "71ec716d",
   "metadata": {},
   "source": [
    " - Determine the contract price $V_0$, and also $V_1$;"
   ]
  },
  {
   "cell_type": "markdown",
   "id": "5d3953ba",
   "metadata": {},
   "source": [
    "As we did before,  \n",
    "$V_1=V_1(S_1)= \\begin{cases}\n",
    "\\ e^{-r}(qC(s_o u^2)-(1-q)C(s_0 d u)), & if & S_1=s_0 u & = 2, \\\\\n",
    "\\ e^{-r}(qC(s_0 u d)+(1-q)C(s_0 d^2)), & if & S_1=s_0 d & = -2\n",
    "\\end{cases}$\n",
    "\n",
    "Now, for $v_0$ we have that:\n",
    "$V_0(s_0)= e^{-r}(q C_1 (s_0, u s_0) + (1-q) C_1(s_0, d s_0)) =$  \n",
    "$e^{-2r}(q(q C_2 (s_0, u s_0, u^2 s_0) + (1-q) C_2(s_0, u s_0, u d s_0))+(1-q)(q C_2(s_0, d s_0, d u s_0) + (1-q)C_2(s_0, d s_0, d^2 s_0))) $  \n",
    "$e^{-2r}(q(q (u^2 s_0 - 2) + (1-q) (u d s_0 - 2))+(1-q)(q (d u s_0 - 2) + (1-q) (d^2 s_0 - 2))) $"
   ]
  },
  {
   "cell_type": "markdown",
   "id": "b5c12e29",
   "metadata": {},
   "source": [
    "- The replicating portfolio has a very distinctive characteristic; what is it? make a connection to how we priced a forward in the first chapter;\n"
   ]
  },
  {
   "cell_type": "markdown",
   "id": "f9c9ebc5",
   "metadata": {},
   "source": [
    "The distinctive characteristic is that, for $n = 1,2$, it happens that $\\psi_n e^{r(n-1)} = -3$ and $\\phi_n = 1$. That means that, at time $0$, we borrowed $3$ units of currency at the bank and we buy one unit of stock. $psi_0, \\phi_0$ "
   ]
  },
  {
   "cell_type": "markdown",
   "id": "d180097f",
   "metadata": {},
   "source": [
    "- Suppose someone is willing to buy the contract with maturity $2$ for a price $P > V_0$. Construct an explicit arbitrage strategy."
   ]
  },
  {
   "cell_type": "markdown",
   "id": "915b0252",
   "metadata": {},
   "source": [
    "Suppose that someone is willing to buy the contract for $P > V_0$ with maturity $N=2$.\n",
    "Let's construct the arbitrage strategy.\n",
    "\n",
    "Firstly, we ask for $S_0$ € to the bank (enough to buy the asset). We then buy the asset and construct a contract that we sell for $P$. So at time 0 ($t=0$) we have P €, 1 asset and we owe $S_0$.\n",
    "\n",
    "At $t=2$, we owe $S_0 e^{2r}=\\frac{24}{9}$. If the buyer of the forward wants to buy the contract, we end up with $P+K-S_0 e^{2r} > 0$ as $P > V_0 = 3 > S_0 e^{2r}$. If the buyer does not want to buy the contract, then we have $P - S_0 e^{2r} >= 0$.\n",
    "\n",
    "In both cases we ended up with a non-negative amount of money and we started with no money."
   ]
  },
  {
   "cell_type": "markdown",
   "id": "bd17d1cc",
   "metadata": {},
   "source": [
    "# Exercise 2"
   ]
  },
  {
   "cell_type": "markdown",
   "id": "9a8c6972",
   "metadata": {},
   "source": [
    "##### Let us prove Proposition 4.4. In the binomial model $d < e^r < u$, let $(\\phi_n, \\psi_n)$ be a self-financing portfolio with the associated value process $V_n$, $n \\geq 0$. Then, the discounted value process $(\\tilde{V}_n)_n = (e^{-nr}V_n)_n$ is a martingale under Q."
   ]
  },
  {
   "cell_type": "markdown",
   "id": "7dd577c4",
   "metadata": {},
   "source": [
    "By construction, the value process associated to the binomial model is:\n",
    "\n",
    "$V_n = \\phi_{n+1} S_n + \\psi_{n+1} e^{nr} = \\phi_n S_n + \\psi_n e^{nr}$\n",
    "\n",
    "And the second equality is true because the portfolio $(\\phi_n, \\psi_n)_n$ is self-financing. Let us now show that $(\\tilde{V}_n)_n$ is a martingale under $Q$.\n",
    "\n",
    "__Let us show that $(\\tilde{V}_n)_n$ is adapted__:\n",
    "\n",
    "Let $(\\mathcal{F}_n)$ be the natural filtration with respect to the prices $(\\mathcal{F}_n)_n = \\sigma(S_0, \\dots, S_N)$ where $N$ is the maturity time.\n",
    "\n",
    "Let $\\tilde{V}_n = e^{-nr}V_n = e^{-nr}\\left( \\phi_{n+1} S_n + \\psi_{n+1} e^{nr} \\right) = \\phi_{n+1} e^{-nr}S_n + \\psi_{n+1}e^{nr-nr}$.\n",
    "\n",
    "But this last term can be simplified, using that $\\tilde{S}_n = e^{-nr}S_n$:\n",
    "\n",
    "$\\tilde{V}_n = \\phi_{n+1} \\tilde{S}_n + \\psi_{n+1}$.\n",
    "\n",
    "But notice that:\n",
    "- The process of discounted prices $\\tilde{S}_n$ is adapted to $\\mathcal{F}_n$ because, fixed $n$, it is a constant multiplied by $S_n$, which we know because of the natural filtration at $\\mathcal{F}_n = \\sigma(S_0, \\dots, S_n)$. Hence, $\\tilde{S}_n = e^{-rn}S_n$ is adapted to $\\mathcal{F}_n$.\n",
    "- By construction of the replicating portfolio of the binomial model, both $\\phi_n$ and $\\psi_n$ are predictable. That means that \n",
    "$\\mathbb{E}[\\phi_{n+1} | \\mathcal{F}_n] = \\phi_n$ and $\\mathbb{E}[\\psi_{n+1}|\\mathcal{F}_n] = \\psi_n$.\n",
    "\n",
    "Therefore, $(\\tilde{V}_n)_n$ is a product of predictable and adapted summed to another predictable process. Thus, it is adapted.\n",
    "\n",
    "\n",
    "\n"
   ]
  },
  {
   "cell_type": "markdown",
   "id": "1835bf81",
   "metadata": {},
   "source": [
    "__Let us now show that $\\mathbb{E}|\\tilde{V}_n| < \\infty$:__\n",
    "\n",
    "We will use the Martingale Representation theorem. Let $\\phi_n = \\frac{\\Delta M_n}{\\Delta \\tilde{S}_n}$, for $M_n$ a martingale process with respect to the natural filtration and $\\tilde{S}_n$ the discounted stock price process. Analogously, let $\\psi_n = \\frac{\\Delta M'_n}{\\Delta \\tilde{S}_n}$, for $M'_n$ another martingale process with respect to the natural filtration and $\\tilde{S}_n$ the discounted stock price process. Then, assuming that $|S_0| < \\infty$:\n",
    "\n",
    "$\\mathbb{E}|\\tilde{V}_n| = \\mathbb{E}|\\phi_{n+1}\\tilde{S}_n + \\psi_{n+1} \\leq \\mathbb{E}|\\phi_{n+1}e^{-nr}u^n|S_0| + \\psi_{n+1}| = |S_0|u^ne^{-nr}\\mathbb{E}|\\phi_{n+1}| + \\mathbb{E}|\\psi_{n+1}|$.\n",
    "\n",
    "Now, applying the Martingale Representation theorem for $\\phi_{n+1}$ and $\\psi_{n+1}$:\n",
    "$\\mathbb{E}|\\tilde{V}_n| = |S_0|u^ne^{-nr}\\mathbb{E}|\\frac{\\Delta M_{n+1}}{\\Delta \\tilde{S}_{n+1}}| + \\mathbb{E}|\\frac{\\Delta M_{n+1}'}{\\Delta \\tilde{S}_{n+1}}|$\n",
    "\n",
    "In the binomial model, the stock price process $S_n$ (and hence $\\tilde{S}_n = e^{-rn}S_n) stays within a bounded range since the up multiplier is $u > 1$ and the down multiplier is $d > 0$. Specifically:\n",
    "\n",
    "$S_n \\geq S_0 d^n \\quad S_n \\leq S_0 u^n$.\n",
    "\n",
    "Then, the increments are also bounded, and $\\Delta \\tilde{S}_{n+1}$, the increment of the discounted stock price process, is not too large or small, in the sense that $\\mathbb{E}|\\Delta \\tilde{S}_{n+1}| < \\infty$. \n",
    "\n",
    "\n",
    "On the other hand, we will now use that the infimum of $|\\Delta \\tilde{S}_{n+1}|$ is strictly greater than $0$ (specifically, that is bounded away from zero). We also assume that the up multiplier is $u < 1$ (so that the price goes up) and the down multiplier is $d < 1$ (so that the price goes down when multiplied).\n",
    "\n",
    "$\\Delta \\tilde{S}_{n+1} = \\tilde{S}_{n+1}-\\tilde{S}_n$ and \n",
    "\n",
    "$\\Delta \\tilde{S}_{n+1} =\\begin{cases} e^{-r}\\tilde{S}_nu - e^{-r}\\tilde{S}_n = e^{-r}\\tilde{S}_n(u-1), \\quad \\text{in an up move} \\\\ e^{-r}\\tilde{S}_n(d-1), \\quad \\text{in a down move} \\\\ \\end{cases}$\n",
    "\n",
    "Now using our assumptions on $u$ and $d$, the absolute value of $\\Delta \\tilde{S}_{n+1}$ is given by:\n",
    "\n",
    "$|\\Delta \\tilde{S}_{n+1}| = e^{-r}|\\tilde{S}_n| \\max(|u-1|,|1-d|)$\n",
    "\n",
    "Hence, the infimum of $|\\Delta \\tilde{S}_{n+1}|$ is bounded by:\n",
    "\n",
    "$\\inf|\\Delta \\tilde{S}_{n+1}| = e^{-r}\\inf|\\tilde{S}_n|\\min(|u-1|,|1-d|)$\n",
    "\n",
    "Now, using that $\\inf |\\tilde{S}_n| = e^{-rn}d^n|S_0| > 0$ for every $n$, since $e^{-rn}$ is positive and $0 < d < 1$.\n",
    "\n",
    "\n",
    "Since $M_n$ and $M_n'$ are martingales, by definition they have finite absolute value expectations. We will now show that the increments of the martingales also have finite absolute value expectations.\n",
    "\n",
    "$\\mathbb{E}|M_n| < \\infty:$\n",
    "\n",
    "$\\mathbb{E}|\\Delta M_{n+1}| = \\mathbb{E}|M_{n+1} - M_n|$\n",
    "\n",
    "$|M_{n+1} - M_n|\\leq |M_{n+1}| + |M_n|$\n",
    "\n",
    "Taking expectations:\n",
    "\n",
    "$\\mathbb{E}|M_{n+1} - M_n| \\leq \\mathbb{E}|M_{n+1}| + \\mathbb{E}|M_n|$\n",
    "\n",
    "\n",
    "Where the inequality comes from the use of the triangle inequality. Notice that this argument is also valid for $M_n'$.\n",
    "\n",
    "Let us now control the absolute value expectations of $\\phi_{n+1}$ and $\\psi_{n+1}$:\n",
    "\n",
    "$\\mathbb{E}|\\phi_{n+1}| = \\mathbb{E}\\left|\\frac{\\Delta M_{n+1}}{\\Delta \\tilde{S}_{n+1}}\\right| \\leq \\frac{\\mathbb{E}|\\Delta M_{n+1}|}{\\inf |\\Delta\\tilde{S}_{n+1}|}$\n",
    "\n",
    "But we have shown that $\\mathbb{E}|\\Delta M_{n+1}| < \\infty$, $|\\tilde{S}_{n+1}|$ is bounded above and below and $\\inf|\\tilde{S}_{n+1}| > 0$ for every $n$ fixed. Hence,\n",
    "\n",
    "$\\mathbb{E}|\\phi_{n+1}| < \\infty$.\n",
    "\n",
    "A similar argument is also valid for $\\psi_{n+1}$:\n",
    "\n",
    "$\\mathbb{E}|\\psi_{n+1}| = \\mathbb{E}\\left|\\frac{\\Delta M_{n+1}'}{\\Delta \\tilde{S}_{n+1}}\\right| \\leq \\frac{\\mathbb{E}|\\Delta M_{n+1}'|}{\\inf |\\Delta\\tilde{S}_{n+1}|}$\n",
    "\n",
    "But we have shown that $\\mathbb{E}|\\Delta M_{n+1}'| < \\infty$, $|\\tilde{S}_{n+1}|$ is bounded above and below and $\\inf|\\tilde{S}_{n+1}| > 0$ for every $n$ fixed. And:\n",
    "\n",
    "$\\mathbb{E}|\\psi_{n+1}| < \\infty$.\n",
    "\n",
    "\n",
    "Coming back to $\\mathbb{E}|\\tilde{V}_n|$:\n",
    "\n",
    "$\\mathbb{E}|\\tilde{V}_n| = |S_0|u^ne^{-nr}\\mathbb{E}|\\frac{\\Delta M_{n+1}}{\\Delta \\tilde{S}_{n+1}}| + \\mathbb{E}|\\frac{\\Delta M_{n+1}'}{\\Delta \\tilde{S}_{n+1}}| < \\infty$"
   ]
  },
  {
   "cell_type": "markdown",
   "id": "f06f0970",
   "metadata": {},
   "source": [
    "__Let us show that $(\\tilde{V}_n)_n$ complies with the martingale property__:\n",
    "\n",
    "Let us observe and prove (although we have seen that in class) that $\\tilde{S}_n$ is a martingale (given $d < e^r < u$) with respect to the natural filtration of the stock prices $\\mathcal{F}_n = \\sigma(S_1, \\dots, S_n)$.\n",
    "\n",
    "- $\\tilde{S}_n$ is adapted because $\\tilde{S}_n = e^{-rn}S_n$ and we know the value of $S_n$ at exactly $\\mathcal{F}_n = \\sigma(S_0, \\dots, S_n)$.\n",
    "- It is integrable because $\\mathbb{E}|\\tilde{S}_n| = e^{-rn}\\mathbb{E}|S_n| \\leq e^{-nr}u^n |S_0| < \\infty$, assuming that $|S_0|< \\infty$.\n",
    "- It complies with the martingale property since (recall that $uq + d(1-q) = e^r$ because $q = \\frac{e^r-d}{u-d}$): \n",
    "\n",
    "    $\\mathbb{E}_q[\\tilde{S}_{n+1}|\\mathcal{F}_n] = \\mathbb{E}[\\tilde{S}_{n+1}|S_0,\\dots, S_n] = e^{-r(n+1)}S_n\\left(uq + d(1-q)\\right) = e^{-r(n+1)}S_n e^r = e^{-rn}S_n = \\tilde{S}_n$.\n",
    "\n",
    "Thus $\\tilde{S}_n$ is a martingale with respect to the natural filtration of the stock prices $\\mathcal{F}_n$. Let us now prove that $\\tilde{V}_n$ is also a martingale with respect to the same filtration. We have already proven that it is adapted and measurable. Now:\n",
    "\n",
    "$\\mathbb{E}_q[\\tilde{V}_{n+1}|\\mathcal{F}_n]= \\mathbb{E}_q[e^{-r(n+1)}V_{n+1}|\\mathcal{F}_n] = \\mathbb{E}_q[e^{-r(n+1)}(\\phi_{n+2}S_{n+1} + \\psi_{n+2}e^{(n+1)r})|\\mathcal{F}_n] = \\mathbb{E}_q[\\phi_{n+2}\\tilde{S}_{n+1} + \\psi_{n+2}|\\mathcal{F}_n] = \\mathbb{E}_q[\\phi_{n+1}\\tilde{S}_{n+1} + \\psi_{n+1}|\\mathcal{F}_n]$.\n",
    "\n",
    "Where the last equality comes from the fact that $(\\phi_n, \\psi_n)_n$ is a self-financing portfolio, and hence $V_n = \\phi_{n+1}S_n + \\psi_{n+1}e^{rn} = \\phi_{n}S_n + \\psi_n e^{rn}$ for every $n$ (and thus also for $n+1$). \n",
    "\n",
    "Recall how above we used the Martingale Representation theorem for both $\\phi_{n+1}$ and $\\psi_{n+1}$. Here, we will only apply it to $\\phi_{n+1}$. Also, notice that $\\tilde{S}_{n+1} = \\tilde{S}_{n} + \\Delta \\tilde{S}_{n+1}$. Let us decompose it this way in the above formula in the following manner:\n",
    "\n",
    "$\\mathbb{E}_q[\\tilde{V}_{n+1}|\\mathcal{F}_n] = \\mathbb{E}_q[\\phi_{n+1}(\\tilde{S}_{n} + \\Delta \\tilde{S}_{n+1}) + \\psi_{n+1}] = \\mathbb{E}_q[\\phi_{n+1}\\tilde{S}_{n} + \\psi_{n+1} +  \\phi_{n+1}\\Delta \\tilde{S}_{n+1}] = \\mathbb{E}_q[\\phi_{n+1}\\tilde{S}_{n} + \\psi_{n+1}|\\mathcal{F}_n] + \\mathbb{E}_q[\\phi_{n+1}\\Delta \\tilde{S}_{n+1}|\\mathcal{F}_n]$\n",
    "\n",
    "Let us go term by term:\n",
    "- First term. Notice that it is exactly $\\tilde{V}_n$:  $\\mathbb{E}_q[\\phi_{n+1}\\tilde{S}_{n} + \\psi_{n+1}|\\mathcal{F}_n] = \\mathbb{E}_q[\\tilde{V}_{n}|\\mathcal{F}_n] = \\tilde{V}_n$ because we have proven that $\\tilde{V}_n$ is adapted to $\\mathcal{F}_n$.\n",
    "- Second term: $\\mathbb{E}_q[\\phi_{n+1}\\Delta \\tilde{S}_{n+1}|\\mathcal{F}_n] = \\mathbb{E}_q[\\Delta M_{n+1}|\\mathcal{F}_n]$ because of the Martingale Representation theorem applied to $\\phi_n$. But the increment of the martingale can be decomposed as: \n",
    "\n",
    "    $\\mathbb{E}_q[\\Delta M_{n+1}|\\mathcal{F}_n] = \\mathbb{E}_q[M_{n+1}-M_n|\\mathcal{F}_n] = \\mathbb{E}_q[M_{n+1}|\\mathcal{F}_n] - \\mathbb{E}_q[M_n|\\mathcal{F}_n] = M_n - M_n = 0$.\n",
    "\n",
    "    That is because $M_n$ complies with the martingale property and because $M_n$ is adapted. Hence, the second term is just $0$.\n",
    "\n",
    "Therefore, \n",
    "\n",
    "$\\mathbb{E}_q[\\tilde{V}_{n+1}|\\mathcal{F}_n] = \\tilde{V}_{n} + 0 = \\tilde{V}_n$\n",
    "\n",
    "And we have proven that $\\tilde{V}_n$ is a martingale with respect to the natural filtration of the stock prices $\\mathcal{F}_n = \\sigma(S_0, \\dots, S_n)$."
   ]
  },
  {
   "cell_type": "markdown",
   "id": "66621148",
   "metadata": {},
   "source": [
    "# Exercise 3"
   ]
  },
  {
   "cell_type": "code",
   "execution_count": null,
   "id": "f049eb39",
   "metadata": {},
   "outputs": [],
   "source": [
    "Being the pay-off of the contract $C:=C(S_0,...,S_N)$, the value of the portfolio at time $t=N$ is:  \n",
    "$V_n=e^{-r}E_q[V_n+1|F_n]=e^{-2r}E_q[V_{n+2}|F_n]=...=e^{-r(N-n)}E_q[C(S_0,...,S_N)|F_n]$.\n",
    "\n",
    "The European call option has a pay-off $C_n = (S_N-K)^+ = max(S_N-K,0)$.  \n",
    "At the same time, the put option has a pay-off $P_n = (K-S_N)^+ = max(K-S_N,0)$.\n",
    "\n",
    "__Calculations:__  \n",
    "\n",
    "Hence $C_n = e^{-(N-n)}E_q[(S_N-K)^+|F_n]$ and $P_n=e^{-r(N-n)}E_q[(K-S_N)^+|F_n]$  \n",
    "Let us compute $C_n - P_n \\forall n \\in \\{0,...,N\\}:$  \n",
    "$C_n - P_n = e^{-r(N-n)}(E_q[(S_N-K)^+|F_n] - (E_q[(K-S_N)^+|F_n]) =  e^{-r(N-n)}(E_q[(S_N-K)^{+}-(K-S_N)^{+} | F_n])$ (linearity)  \n",
    "If $S_N \\geq K$, then  $(K-S_N)^+ = 0$ and $(S_N-K)^{+}-(K-S_N)^{+} = S_N-K$. Also, if $S_N < K$, then $(S_N-K)^+ = 0$ and $(S_N-K)^{+}-(K-S_N)^{+} = S_N-K$. So,  \n",
    "$C_n - P_n = e^{-r(N-n)} E_q[S_N-K|F_n] $.  \n",
    "Note that $K$ is a constant; $ e^{-r(N-n)} E_q[S_N-K|F_n] = e^{-r(N-n)} E_q[S_N|F_n] - K e^{-r(N-n)}$  \n",
    "Finally, taking into account that $(\\tilde S_n)$ is a martingale and that $e^N (\\tilde S_N) = S_N$ we get that  \n",
    "$C_n - P_n = e^{-r(N-n)} E_q[e^{rN}S_N e^{-rN} | F_n] - K e^{-r(N-n)}$ =... (we add and remove $e^{rN}$)  \n",
    "$...= e^{-r(N-n)} e^{-N} E_q[\\tilde S_N|F_n] - K e^{-r(N-n)} = e^{rn} \\tilde S_N - K e^{-r(N-n)} = S_n - K e^{-r(N-n)}$ "
   ]
  },
  {
   "cell_type": "markdown",
   "id": "de50442b",
   "metadata": {},
   "source": []
  },
  {
   "cell_type": "markdown",
   "id": "northern-gallery",
   "metadata": {},
   "source": [
    "# Exercise 4"
   ]
  },
  {
   "cell_type": "markdown",
   "id": "4fdcd248",
   "metadata": {},
   "source": [
    "Let us first show a code that prices stocks according to a $T$ Binomial Model (the times go from $t = 0$ to $t = T$), where the interest rate is compounded daily and not continuously. That is why we use $1+r_1$ instead of $e^{r_1}$. The initial stock price is set to $15$€. In this case, the prices are priced up until $T = 10$ days.\n",
    "\n",
    "The matrix stockprice represents all the stock prices up to maturity if, at each step, they can be multiplied by $u$ (that is, the stock price goes up) or by $d$ (that is, the stock price goes down) for each time step $j$, and in this way the matrix is filled.\n",
    "\n",
    "Later on, the code also prices a call option using the risk neutral probability for up in our model and the conditional expectation in the following way. It uses the binomial model's backward induction to compute the option prices at earlier time steps until we get to $j = 0$, which represents the current price of the contract.\n",
    "\n",
    "$C_{i,j} = \\frac{1}{1+r_1}\\mathbb{E}[C_{i, j+1}|\\mathcal{F}_j] = \\frac{1}{1+r_1}\\left(q\\cdot C_{i,j+1} + (1-q)\\cdot C_{i+1, j+1}\\right)$\n",
    "\n",
    "Notice that the value at a given node is determined by the expected future payoffs discounted back to the present value using the interest rate $r_1$."
   ]
  },
  {
   "cell_type": "markdown",
   "id": "b44d8cfe",
   "metadata": {},
   "source": [
    "Note that the European call option is computed inductively backwards from the pay-off, which is:\n",
    "\n",
    "$C(S_0, \\dots, S_T) = C(S_T) = \\max(S_T - K, 0)$"
   ]
  },
  {
   "cell_type": "code",
   "execution_count": 1,
   "id": "norwegian-quarterly",
   "metadata": {},
   "outputs": [
    {
     "name": "stdout",
     "output_type": "stream",
     "text": [
      "Stock prices:\n",
      "[[15.   15.75 16.54 17.36 18.23 19.14 20.1  21.11 22.16 23.27 24.43]\n",
      " [  nan 11.85 12.44 13.06 13.72 14.4  15.12 15.88 16.67 17.51 18.38]\n",
      " [  nan   nan  9.36  9.83 10.32 10.84 11.38 11.95 12.55 13.17 13.83]\n",
      " [  nan   nan   nan  7.4   7.77  8.15  8.56  8.99  9.44  9.91 10.41]\n",
      " [  nan   nan   nan   nan  5.84  6.13  6.44  6.76  7.1   7.46  7.83]\n",
      " [  nan   nan   nan   nan   nan  4.62  4.85  5.09  5.34  5.61  5.89]\n",
      " [  nan   nan   nan   nan   nan   nan  3.65  3.83  4.02  4.22  4.43]\n",
      " [  nan   nan   nan   nan   nan   nan   nan  2.88  3.02  3.18  3.33]\n",
      " [  nan   nan   nan   nan   nan   nan   nan   nan  2.28  2.39  2.51]\n",
      " [  nan   nan   nan   nan   nan   nan   nan   nan   nan  1.8   1.89]\n",
      " [  nan   nan   nan   nan   nan   nan   nan   nan   nan   nan  1.42]]\n",
      "Call option prices:\n",
      "[[ 7.09  7.81  8.57  9.38 10.24 11.15 12.11 13.11 14.16 15.27 16.43]\n",
      " [  nan  4.07  4.59  5.16  5.77  6.43  7.13  7.88  8.68  9.51 10.38]\n",
      " [  nan   nan  1.89  2.21  2.58  2.99  3.46  3.98  4.55  5.17  5.83]\n",
      " [  nan   nan   nan  0.54  0.67  0.83  1.03  1.27  1.57  1.94  2.41]\n",
      " [  nan   nan   nan   nan  0.    0.    0.    0.    0.    0.    0.  ]\n",
      " [  nan   nan   nan   nan   nan  0.    0.    0.    0.    0.    0.  ]\n",
      " [  nan   nan   nan   nan   nan   nan  0.    0.    0.    0.    0.  ]\n",
      " [  nan   nan   nan   nan   nan   nan   nan  0.    0.    0.    0.  ]\n",
      " [  nan   nan   nan   nan   nan   nan   nan   nan  0.    0.    0.  ]\n",
      " [  nan   nan   nan   nan   nan   nan   nan   nan   nan  0.    0.  ]\n",
      " [  nan   nan   nan   nan   nan   nan   nan   nan   nan   nan  0.  ]]\n"
     ]
    }
   ],
   "source": [
    "import numpy as np\n",
    "\n",
    "s = 15 # stock price at time 0 in euro\n",
    "u = 1.05 # up multiplier\n",
    "d = 0.79 # down multiplier\n",
    "T = 10 # maturity time\n",
    "K = 8 # strike price\n",
    "r1 = 0.045/365 # daily interest rate; 1+r1 multiplier, not exp(r1)\n",
    "q = (1+r1-d)/(u-d) # risk neutral probability for up\n",
    "\n",
    "# Determine possible stock prices up to maturity\n",
    "stockprice = np.full((T+1,T+1),np.nan)\n",
    "stockprice[0,0] = s\n",
    "\n",
    "for j in range(1,T+1):\n",
    "    for i in range(0,j):\n",
    "        stockprice[i,j] = stockprice[i,j-1]*u\n",
    "        stockprice[i+1,j] = stockprice[i,j-1]*d\n",
    "print(\"Stock prices:\")\n",
    "print(np.around(stockprice, 2)) #just for visualisation\n",
    "\n",
    "# Determine European call option prices and conditional values\n",
    "calloption = np.full((T+1,T+1),np.nan)\n",
    "calloption[:,-1] = np.where(stockprice[:,-1]-K<0,0,stockprice[:,-1]-K)\n",
    "for j in range(T-1,-1,-1):\n",
    "    for i in range(0,j+1):\n",
    "        calloption[i,j] = (q*calloption[i,j+1]+(1-q)*calloption[i+1,j+1])/(1+r1)\n",
    "print(\"Call option prices:\")\n",
    "print(np.around(calloption, 2)) #just for visualisation"
   ]
  },
  {
   "cell_type": "markdown",
   "id": "laughing-inquiry",
   "metadata": {},
   "source": [
    "##### (a) Write a function that determines the value of a European call option for a user specified combination of $d$ and $u$. Fix $d = 0.90$ and determine the price of the call option for various values of $u$, for instance, $u = 1.02, 1.03, 1.05, 1.11$. Plot these values in a graph. Repeat this for $d = 0.795$."
   ]
  },
  {
   "cell_type": "markdown",
   "id": "2b2401d9",
   "metadata": {},
   "source": [
    "First, we program a function called $value\\,european\\,call(d, u)$, which, for $d$ and $u$ parameters that can be modified, given the same restrictions of the initial code that we showed, it computes the two matrices of stock prices and the prices of the call option at different time steps according to the same model in the initial code, but we add a line so that we return the value of the call option at current time ($calloption[0,0]$).\n",
    "\n"
   ]
  },
  {
   "cell_type": "code",
   "execution_count": 28,
   "id": "8337ce77",
   "metadata": {},
   "outputs": [],
   "source": [
    "def value_european_call(d,u):\n",
    "    s = 15 # stock price at time 0 in euro\n",
    "    T = 10 # maturity time\n",
    "    K = 8 # strike price\n",
    "    r1 = 0.045/365 # daily interest rate; 1+r1 multiplier, not exp(r1)\n",
    "    q = (1+r1-d)/(u-d) # risk neutral probability for up\n",
    "\n",
    "    # Determine possible stock prices up to maturity\n",
    "    stockprice = np.full((T+1,T+1),np.nan)\n",
    "    stockprice[0,0] = s\n",
    "\n",
    "    for j in range(1,T+1):\n",
    "        for i in range(0,j):\n",
    "            stockprice[i,j] = stockprice[i,j-1]*u\n",
    "            stockprice[i+1,j] = stockprice[i,j-1]*d\n",
    "    \n",
    "    calloption = np.full((T+1,T+1),np.nan)\n",
    "    calloption[:,-1] = np.where(stockprice[:,-1]-K<0,0,stockprice[:,-1]-K) # Pay-off of the European call\n",
    "    for j in range(T-1,-1,-1):\n",
    "        for i in range(0,j+1):\n",
    "            calloption[i,j] = (q*calloption[i,j+1]+(1-q)*calloption[i+1,j+1])/(1+r1)\n",
    "    return np.round(calloption[0,0],2) # Value of the option contract at time 0"
   ]
  },
  {
   "cell_type": "markdown",
   "id": "76f5d6f7",
   "metadata": {},
   "source": [
    "Notice that the current European call option price is $calloption[0,0]$, and we round it to the two decimals for convenience. Hence, if we now want to compute the price of the call option for different values of $u$ and $d$, we can plug them in at this function that we defined above."
   ]
  },
  {
   "cell_type": "code",
   "execution_count": 4,
   "id": "811228d9",
   "metadata": {},
   "outputs": [
    {
     "data": {
      "image/png": "[encoded data removed]",
      "text/plain": [
       "<Figure size 1000x600 with 1 Axes>"
      ]
     },
     "metadata": {},
     "output_type": "display_data"
    },
    {
     "data": {
      "image/png": "[encoded data removed]",
      "text/plain": [
       "<Figure size 1000x600 with 1 Axes>"
      ]
     },
     "metadata": {},
     "output_type": "display_data"
    }
   ],
   "source": [
    "import matplotlib.pyplot as plt\n",
    "\n",
    "def plot_in_function_of_u(d):\n",
    "    X = np.array([1.02, 1.03, 1.05, 1.11])\n",
    "    Y = np.array([])\n",
    "    for x in X:\n",
    "        Y = np.append(Y, value_european_call(d,x))\n",
    "    plt.figure(figsize=(10,6))\n",
    "    plt.plot(X,Y)\n",
    "    plt.title('European Call Option Price vs Up Multiplier (u)', fontsize=16)\n",
    "    plt.xlabel('Up Multipliers (u) for d = ' + str(d) + '', fontsize=14)\n",
    "    plt.ylabel('European Call Option Price', fontsize=14)\n",
    "    plt.xticks(fontsize=12)\n",
    "    plt.yticks(fontsize=12)  \n",
    "    plt.tight_layout()\n",
    "    plt.show()\n",
    "    return X,Y\n",
    "\n",
    "\n",
    "X_90, Y_90 = plot_in_function_of_u(d=0.90)\n",
    "X_795, Y_795 = plot_in_function_of_u(d=0.795)\n"
   ]
  },
  {
   "cell_type": "markdown",
   "id": "happy-pierce",
   "metadata": {},
   "source": [
    "##### (b) What is the observed relation between the values of $u$ (and $d$) and the call option price? Is there an intuitive explanation for these relations?"
   ]
  },
  {
   "cell_type": "markdown",
   "id": "055662f7",
   "metadata": {},
   "source": [
    "First of all, notice that $u > 1$ and $d < 1$, strictly, as multipliers. The observed relation between the values of $u$ fixed $d$ is the following. As the up multiplier $u$ increases, the potential future stock prices when the stock goes up rise, only in the upward movement scenario. Hence, the downward movement, fixed $d$, is the same, but the upward movement is greater as $u$ increases. \n",
    "\n",
    "As a consequence, the expected price of the call option becomes more valuable, because the underlying stock has a higher potential to increase above the strike price (in-the-money $S_T > K$). \n",
    "\n",
    "Analogously, as the $d$ multiplier increases, the potential future stock prices when the stock goes down rise, only in the downward movement scenario. Hence, the upward movement, fixed $u$, is the same, but the downward movement is not as great as $d$ increases. As a consequence, the expected price of the call option becomes more valuable, because now when the prices go down, they don't go \"down that much\"."
   ]
  },
  {
   "cell_type": "markdown",
   "id": "9f3e481e",
   "metadata": {},
   "source": [
    "We have explained the intuition behind it, but not the mathematics. Let us show that $C_{0,0}$ increases with $u$ and with $d$.\n",
    "\n",
    "We know that, by the binomial model:\n",
    "\n",
    "$C_{0,0} = \\frac{1}{(1+r_1)^T}\\sum_{i=0}^T \\binom{T}{i} q^i (1-q)^{T-i} \\max(0,S_0 \\cdot u^i d^{T-i} - K)$.\n",
    "\n",
    "Hence, the derivative with respect to $u$ is:\n",
    "\n",
    "$\\frac{\\delta C_{0,0}}{\\delta u} =\\frac{1}{(1+r_1)^T}\\sum_{i=0}^T \\binom{T}{i} q^i (1-q)^{T-i} \\frac{\\delta}{\\delta u} \\max(0,S_0 \\cdot u^i d^{T-i} - K)$,\n",
    "\n",
    "but the derivative of the maximum function can be expressed as:\n",
    "\n",
    "\n",
    "$\\frac{\\delta}{\\delta u}\\max(0, S_0 \\cdot u^i \\cdot d^{T-i} - K) = \\begin{cases}  S_0 \\cdot i \\cdot u^{i-1} \\cdot d^{T-i} & \\text{if } S_0 \\cdot u^i \\cdot d^{T-i} > K \\\\\n",
    "0 & \\text{otherwise}\n",
    "\\end{cases}$\n",
    "\n",
    "Notice that, when we take the derivative of the call option price $C_{0,0}$ with respect to $u$, we are examining how the call option price changes as we make small changes to $u$ (sensitivity to changes in the up multiplier). Thus, if this derivative is positive, it implies that an increase in $u$ will result in an increase in the call option price. \n",
    "\n",
    "__When is the derivative positive?__\n",
    "\n",
    "The term $S_0 \\cdot i \\cdot u^{i-1}\\cdot d^{T-i}$ is positive if:\n",
    " - $S_0 > 0$ (the initial stock price is positive)\n",
    " - $i > 0$ (there is at least one upward movement)\n",
    " - $u^{i-1} > 0$ (since $u > 0$)\n",
    " - $d^{T-i} > 0$ (since $d > 0$)\n",
    "\n",
    "Therefore, the contribution to the derivative is positive and, for values of $u$ that lead to more scenarios where the option is in-the-money (because the up movement is larger), the positive contributions increase.\n",
    "\n",
    "In a similar fashion, let us show the derivative with respect to $d$:\n",
    "$\\frac{\\delta C_{0,0}}{\\delta d} =\\frac{1}{(1+r_1)^T}\\sum_{i=0}^T \\binom{T}{i} q^i (1-q)^{T-i} \\frac{\\delta}{\\delta d} \\max(0,S_0 \\cdot u^i d^{T-i} - K)$,\n",
    "\n",
    "but the derivative of the maximum function can be expressed as:\n",
    "$\\frac{\\delta}{\\delta d}\\max(0, S_0 \\cdot u^i \\cdot d^{T-i} - K) = \\begin{cases}  S_0 \\cdot (T-i) \\cdot u^{i} \\cdot d^{T-i.1} & \\text{if } S_0 \\cdot u^i \\cdot d^{T-i} > K \\\\\n",
    "0 & \\text{otherwise}\n",
    "\\end{cases}$\n",
    "\n",
    "Notice that, when we take the derivative of the call option price $C_{0,0}$ with respect to $d$, we are examining how the call option price changes as we make small changes to $d$ (sensitivity to changes in the down multiplier). Thus, if this derivative is positive, it implies that an increase in $d$ will result in an increase in the call option price. \n",
    "\n",
    "__When is the derivative positive?__\n",
    "\n",
    "The term $S_0 \\cdot (T-i) \\cdot u^{i}\\cdot d^{T-i-1}$ is positive if:\n",
    " - $S_0 > 0$ (the initial stock price is positive)\n",
    " - $i > 0$ (there is at least one upward movement)\n",
    " - $u^{i} > 0$ (since $u > 0$)\n",
    " - $d^{T-i-1} > 0$ (since $d > 0$)\n",
    "\n",
    "Therefore, the contribution to the derivative is positive and, as $d$ increases, that leads to downward movements that are lighter, making the option more valuable since, potentially, less out-of-the-money scenarious occur ($K - S_T$).\n",
    "\n",
    "On the other hand, if either $u$ or $d$ decrease, the option price would be less valuable, since, in the first case, the upward movement would be lighter, hence being \"less upward\". In the latter case, the option would be less valuable since the downward movement would be heavier, meaning that the downsides are greater when the stock does not go up.  \n",
    "\n",
    "To sum up, for a call option:\n",
    "- $u$ increases $\\implies$ the call option is more valuable, since the upward movements are heavier \n",
    "- $d$ increases $\\implies$ the call option is more valuable, since the downward movements are lighter\n",
    "- $u$ decreases $\\implies$ the call option is less valuable, since the upward movements are lighter \n",
    "- $d$ decreases $\\implies$ the call option is less valuable, since the downward movements are heavier"
   ]
  },
  {
   "cell_type": "markdown",
   "id": "81439637",
   "metadata": {},
   "source": [
    "##### (c) Write a function that determines the value of a put option with the same strike price K as the call option from before for a user-specified combination of d and u. Investigate how the parameters u and d influence the price of the put option.\n"
   ]
  },
  {
   "cell_type": "markdown",
   "id": "b55b8c3d",
   "metadata": {},
   "source": [
    "Let us define the analogous function of the European call but now for a European put option. Notice that, since the computation of the expectation with respect to the $Q$ measure is the same, the only line that changes is the pay-offof the European put option:\n",
    "\n",
    "$P(S_0,\\dots, S_T) = P(S_T) = \\max(K - S_T, 0)$"
   ]
  },
  {
   "cell_type": "code",
   "execution_count": 30,
   "id": "6602e39a",
   "metadata": {},
   "outputs": [],
   "source": [
    "def value_european_put(d,u):\n",
    "    s = 15 # stock price at time 0 in euro\n",
    "    T = 10 # maturity time\n",
    "    K = 8 # strike price\n",
    "    r1 = 0.045/365 # daily interest rate; 1+r1 multiplier, not exp(r1)\n",
    "    q = (1+r1-d)/(u-d) # risk neutral probability for up\n",
    "\n",
    "    # Determine possible stock prices up to maturity\n",
    "    stockprice = np.full((T+1,T+1),np.nan)\n",
    "    stockprice[0,0] = s\n",
    "\n",
    "    for j in range(1,T+1):\n",
    "        for i in range(0,j):\n",
    "            stockprice[i,j] = stockprice[i,j-1]*u\n",
    "            stockprice[i+1,j] = stockprice[i,j-1]*d\n",
    "    \n",
    "    putoption = np.full((T+1,T+1),np.nan)\n",
    "    putoption[:,-1] = np.where(K-stockprice[:,-1]<0,0,K-stockprice[:,-1]) # Pay-off of the European put option\n",
    "    for j in range(T-1,-1,-1):\n",
    "        for i in range(0,j+1):\n",
    "            putoption[i,j] = (q*putoption[i,j+1]+(1-q)*putoption[i+1,j+1])/(1+r1)\n",
    "    return np.round(putoption[0,0],2) # Value of the option contract at time 0"
   ]
  },
  {
   "cell_type": "markdown",
   "id": "fd5618ab",
   "metadata": {},
   "source": [
    "Now, to see how the parameters $u$ and $d$ influence the price of the put option, we can perform an analysis similar to that of the call option. First, we will show how the explicit formula of $P_0$ is computed, and then we will analyse the partial derivatives of $P_0$ with respect to $u$ and with respect to $d$."
   ]
  },
  {
   "cell_type": "markdown",
   "id": "4b67a649",
   "metadata": {},
   "source": [
    "Let us show that $P_0 \\equiv P_{0,0}$, by the binomial model:\n",
    "\n",
    "$P_{0,0} = \\frac{1}{(1+r_1)^T}\\sum_{i=0}^T \\binom{T}{i} q^i (1-q)^{T-i} \\max(0,K - S_0 \\cdot u^i d^{T-i})$.\n",
    "\n",
    "__Derivative with respect to $u$,__\n",
    "\n",
    "Hence, the derivative with respect to $u$ is:\n",
    "\n",
    "$\\frac{\\delta P_{0,0}}{\\delta u} =\\frac{1}{(1+r_1)^T}\\sum_{i=0}^T \\binom{T}{i} q^i (1-q)^{T-i} \\frac{\\delta}{\\delta u} \\max(0,K - S_0 \\cdot u^i d^{T-i})$,\n",
    "\n",
    "but the derivative of the maximum function can be expressed as:\n",
    "\n",
    "\n",
    "$\\frac{\\delta}{\\delta u}\\max(0,K - S_0 \\cdot u^i d^{T-i}) = \\begin{cases}  -S_0 \\cdot i \\cdot u^{i-1} \\cdot d^{T-i} & \\text{if } K > S_0 \\cdot u^i \\cdot d^{T-i}  \\\\\n",
    "0 & \\text{otherwise}\n",
    "\\end{cases}$\n",
    "\n",
    "Notice that, when we take the derivative of the put option price $P_{0,0}$ with respect to $u$, we are examining how the put option price changes as we make small changes to $u$ (sensitivity to changes in the up multiplier). Thus, if this derivative is negative, it implies that an increase in $u$ will result in a decrease in the put option price. \n",
    "\n",
    "__When is the derivative with respect to $u$ negative?__\n",
    "\n",
    "The term $S_0 \\cdot i \\cdot u^{i-1}\\cdot d^{T-i}$ is positive if:\n",
    " - $S_0 > 0$ (the initial stock price is positive)\n",
    " - $i > 0$ (there is at least one upward movement)\n",
    " - $u^{i-1} > 0$ (since $u > 0$)\n",
    " - $d^{T-i} > 0$ (since $d > 0$)\n",
    "\n",
    "Since we are looking at the term $- S_0 \\cdot i \\cdot u^{i-1}\\cdot d^{T-i}$, it is negative and the contribution to the derivative is negative. Therefore, for values of $u$ that lead to more scenarios where the option is in-the-money (since the upward movement is heavier), the negative contributions increase, hence making the option less valuable.\n",
    "\n",
    "We would do the same reasoning analogously, since __the derivatives are the ones calculated on the previous section but scaled by $-1$, making them negative. Hence, the consequences go in the opposite direction.__ That is:\n",
    "\n",
    "- $u$ increases $\\implies$ the put option is less valuable, since the upward movements are heavier \n",
    "- $d$ increases $\\implies$ the put option is less valuable, since the downward movements are lighter\n",
    "- $u$ decreases $\\implies$ the put option is more valuable, since the upward movements are lighter \n",
    "- $d$ decreases $\\implies$ the put option is more valuable, since the downward movements are heavier"
   ]
  },
  {
   "cell_type": "markdown",
   "id": "527f465b",
   "metadata": {},
   "source": [
    "##### (d) Using the fact that the discounted stock prices form a martingale (w.r.t. the natural filtration) under the risk neutral measure, use your code illustrate the so called put-call parity as defined in exercise 3 of this assignment."
   ]
  },
  {
   "cell_type": "markdown",
   "id": "e136dfcb",
   "metadata": {},
   "source": [
    "In Exercise 3 we had the following formula \n",
    "\n",
    "$C_n - P_n = S_n - e^{-r(N-n)}K, \\quad n=0,\\dots, N$,\n",
    "\n",
    "Notice that now we have daily compounding $(1+r_1)^{N-n}$ instead of continuous compounding $e^{-r(N-n)}$.\n",
    "\n",
    "\n",
    "We will now check for the put-call parity at each time-step and at each path, to show that it is always preserved in our model. Let us denote $putcallparitycheck$ for a matrix that, at the element $i,j$ is $nan$ if there is no path $i$ at the time step $j$, $1$ if it complies with the put-call parity at each time step and $0$ if it does not. At time 0, the put-call parity condition is $C_0 - S0 + K \\frac{1}{(1+r_1)^T} = P_0$, but the condition that we will check is:\n",
    "\n",
    "$(C_{i,j} - P_{i,j} - stockprice[i,j] + K/(1+r_1)^{(T-j)}) < tol$,\n",
    "\n",
    "at each $i,j$ (at each path along all the time steps), with $tol = 1e^{-9}$, to ensure that we are not confusing negligibly small values with $0$."
   ]
  },
  {
   "cell_type": "code",
   "execution_count": 31,
   "id": "51d9a72f",
   "metadata": {},
   "outputs": [
    {
     "name": "stdout",
     "output_type": "stream",
     "text": [
      "Put-Call Parity Check:\n",
      "[[ 1.  1.  1.  1.  1.  1.  1.  1.  1.  1.  1.]\n",
      " [nan  1.  1.  1.  1.  1.  1.  1.  1.  1.  1.]\n",
      " [nan nan  1.  1.  1.  1.  1.  1.  1.  1.  1.]\n",
      " [nan nan nan  1.  1.  1.  1.  1.  1.  1.  1.]\n",
      " [nan nan nan nan  1.  1.  1.  1.  1.  1.  1.]\n",
      " [nan nan nan nan nan  1.  1.  1.  1.  1.  1.]\n",
      " [nan nan nan nan nan nan  1.  1.  1.  1.  1.]\n",
      " [nan nan nan nan nan nan nan  1.  1.  1.  1.]\n",
      " [nan nan nan nan nan nan nan nan  1.  1.  1.]\n",
      " [nan nan nan nan nan nan nan nan nan  1.  1.]\n",
      " [nan nan nan nan nan nan nan nan nan nan  1.]]\n"
     ]
    }
   ],
   "source": [
    "q = (1+r1-d)/(u-d) # risk neutral probability for up\n",
    "\n",
    "putcallparitycheck = np.full((T+1,T+1),np.nan)\n",
    "calloption = np.full((T+1,T+1),np.nan)\n",
    "putoption = np.full((T+1,T+1),np.nan)\n",
    "calloption[:,-1] = np.where(stockprice[:,-1]-K<0,0,stockprice[:,-1]-K)\n",
    "putoption[:,-1] = np.where(K - stockprice[:,-1]<0,0,K - stockprice[:,-1])\n",
    "tol = 1e-9\n",
    "for j in range(T-1,-1,-1):\n",
    "    for i in range(0,j+1):\n",
    "        calloption[i,j] = (q*calloption[i,j+1]+(1-q)*calloption[i+1,j+1])/(1+r1)\n",
    "        putoption[i,j] = (q*putoption[i,j+1]+(1-q)*putoption[i+1,j+1])/(1+r1)\n",
    "        discount = 1/(1+r1)**(T-j)\n",
    "        putcallparitycheck[i,j] = (calloption[i,j] - putoption[i,j] - stockprice[i,j] + K*discount) < tol\n",
    "\n",
    "for i in range(0,T+1):\n",
    "    putcallparitycheck[i,T] = (calloption[i,T] - putoption[i,T] - stockprice[i,T] + K) < tol\n",
    "\n",
    "print(\"Put-Call Parity Check:\")\n",
    "print(putcallparitycheck)\n"
   ]
  },
  {
   "cell_type": "markdown",
   "id": "6b92ff3f",
   "metadata": {},
   "source": [
    "As we can see, the put-call parity check is preserved along the paths and time steps of the European option contract modelled with the \n",
    "binomial model. "
   ]
  }
 ],
 "metadata": {
  "kernelspec": {
   "display_name": "Python 3",
   "language": "python",
   "name": "python3"
  },
  "language_info": {
   "codemirror_mode": {
    "name": "ipython",
    "version": 3
   },
   "file_extension": ".py",
   "mimetype": "text/x-python",
   "name": "python",
   "nbconvert_exporter": "python",
   "pygments_lexer": "ipython3",
   "version": "3.12.3"
  }
 },
 "nbformat": 4,
 "nbformat_minor": 5
}
